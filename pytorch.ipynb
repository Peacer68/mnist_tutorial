{
 "cells": [
  {
   "cell_type": "markdown",
   "metadata": {},
   "source": [
    "# Pytorch Tutorial"
   ]
  },
  {
   "cell_type": "markdown",
   "metadata": {},
   "source": [
    "Pytorch is a popular deep learning framework and it's easy to get started."
   ]
  },
  {
   "cell_type": "code",
   "execution_count": 62,
   "metadata": {
    "collapsed": true
   },
   "outputs": [],
   "source": [
    "import torch\n",
    "import torch.nn as nn\n",
    "import torch.utils.data as data\n",
    "import torchvision\n",
    "import torchvision.transforms as transforms\n",
    "from tqdm import tqdm, trange\n",
    "tqdm.monitor_interval = 0\n",
    "import time\n",
    "\n",
    "BATCH_SIZE = 128\n",
    "NUM_EPOCHS = 10"
   ]
  },
  {
   "cell_type": "markdown",
   "metadata": {},
   "source": [
    "First, we read the mnist data, preprocess them and encapsulate them into dataloader form."
   ]
  },
  {
   "cell_type": "code",
   "execution_count": null,
   "metadata": {
    "collapsed": true
   },
   "outputs": [],
   "source": [
    "# preprocessing\n",
    "normalize = transforms.Normalize(mean=[.5], std=[.5])\n",
    "transform = transforms.Compose([transforms.ToTensor(), normalize])\n",
    "\n",
    "# download and load the data\n",
    "train_dataset = torchvision.datasets.MNIST(root='./mnist/', train=True, transform=transform, download=True) #第一次需要下载，之后将直接本地导入\n",
    "test_dataset = torchvision.datasets.MNIST(root='./mnist/', train=False, transform=transform, download=False)\n",
    "\n",
    "# encapsulate them into dataloader form\n",
    "train_loader = data.DataLoader(train_dataset, batch_size=BATCH_SIZE, shuffle=True, drop_last=True)\n",
    "test_loader = data.DataLoader(test_dataset, batch_size=BATCH_SIZE, shuffle=False, drop_last=True)"
   ]
  },
  {
   "cell_type": "markdown",
   "metadata": {},
   "source": [
    "Then, we define the model, object function and optimizer that we use to classify."
   ]
  },
  {
   "cell_type": "code",
   "execution_count": 60,
   "metadata": {
    "collapsed": true
   },
   "outputs": [],
   "source": [
    "# TODO:define model\n",
    "class SimpleNet(nn.Module):\n",
    "    def __init__(self):\n",
    "        super(SimpleNet,self).__init__() # call the init function of father class\n",
    "        self.conv1 = nn.Conv2d(1,64,3,1,1) # use 64 3*3 conv kernel, and the output is  64*28*28\n",
    "        self.relu1 = nn.ReLU() # the first relu\n",
    "        self.pool1 = nn.MaxPool2d(2,2) # the first pooling layer, the output is 64*14*14\n",
    "        self.conv2 = nn.Conv2d(64,128,3,1,1) # the second conv layer, the output is 128*14*14\n",
    "        self.relu2 = nn.ReLU() # the second relu\n",
    "        self.pool2 = nn.MaxPool2d(2,2) # the second pooling layer, the output is 128*7*7\n",
    "\n",
    "        self.dense1 = nn.Linear(7*7*128,1024) # the first fc layer, the output is 1*1024\n",
    "        self.dropout = nn.Dropout(p=0.5) # avoid over-fitting\n",
    "        self.dense2 = nn.Linear(1024,10) # the second fc layer, the output is 1*10\n",
    "    \n",
    "    # forward process\n",
    "    def forward(self, input):\n",
    "        input = self.conv1(input)\n",
    "        input = self.relu1(input)\n",
    "        input = self.pool1(input)\n",
    "        input = self.conv2(input)\n",
    "        input = self.relu2(input)\n",
    "        input = self.pool2(input)\n",
    "        input = input.view(input.size(0), -1) \n",
    "        input = self.dense1(input)\n",
    "        input = self.dropout(input)\n",
    "        final_output = self.dense2(input)\n",
    "\n",
    "        return final_output\n",
    "\n",
    "model = SimpleNet()\n",
    "\n",
    "\n",
    "# TODO:define loss function and optimiter\n",
    "criterion = nn.CrossEntropyLoss()\n",
    "optimizer = torch.optim.Adam(model.parameters())"
   ]
  },
  {
   "cell_type": "markdown",
   "metadata": {},
   "source": [
    "Next, we can start to train and evaluate!"
   ]
  },
  {
   "cell_type": "code",
   "execution_count": 61,
   "metadata": {
    "collapsed": true,
    "scrolled": true
   },
   "outputs": [
    {
     "output_type": "stream",
     "name": "stderr",
     "text": [
      "100%|██████████| 468/468 [02:17<00:00,  3.40it/s]\n",
      "100%|██████████| 468/468 [00:46<00:00,  9.98it/s]\n",
      "100%|██████████| 78/78 [00:07<00:00,  9.95it/s]\n",
      "Epoch 1 : train accuracy: 98.10%\n",
      "Epoch 1 : test accuracy: 98.02%\n",
      "100%|██████████| 468/468 [02:26<00:00,  3.20it/s]\n",
      "100%|██████████| 468/468 [00:46<00:00,  9.97it/s]\n",
      "100%|██████████| 78/78 [00:07<00:00,  9.93it/s]\n",
      "Epoch 2 : train accuracy: 98.77%\n",
      "Epoch 2 : test accuracy: 98.45%\n",
      "100%|██████████| 468/468 [02:30<00:00,  3.11it/s]\n",
      "100%|██████████| 468/468 [00:46<00:00, 10.01it/s]\n",
      "100%|██████████| 78/78 [00:07<00:00, 10.07it/s]\n",
      "Epoch 3 : train accuracy: 98.92%\n",
      "Epoch 3 : test accuracy: 98.43%\n",
      "100%|██████████| 468/468 [02:30<00:00,  3.11it/s]\n",
      "100%|██████████| 468/468 [00:46<00:00, 10.01it/s]\n",
      "100%|██████████| 78/78 [00:07<00:00, 10.10it/s]\n",
      "Epoch 4 : train accuracy: 99.08%\n",
      "Epoch 4 : test accuracy: 98.59%\n",
      "100%|██████████| 468/468 [02:30<00:00,  3.10it/s]\n",
      "100%|██████████| 468/468 [00:46<00:00, 10.01it/s]\n",
      "100%|██████████| 78/78 [00:07<00:00, 10.06it/s]\n",
      "Epoch 5 : train accuracy: 99.11%\n",
      "Epoch 5 : test accuracy: 98.74%\n",
      "100%|██████████| 468/468 [02:30<00:00,  3.10it/s]\n",
      "100%|██████████| 468/468 [00:46<00:00, 10.07it/s]\n",
      "100%|██████████| 78/78 [00:07<00:00,  9.96it/s]\n",
      "Epoch 6 : train accuracy: 99.12%\n",
      "Epoch 6 : test accuracy: 98.65%\n",
      "100%|██████████| 468/468 [02:29<00:00,  3.13it/s]\n",
      "100%|██████████| 468/468 [00:46<00:00, 10.03it/s]\n",
      "100%|██████████| 78/78 [00:07<00:00, 10.12it/s]\n",
      "Epoch 7 : train accuracy: 99.06%\n",
      "Epoch 7 : test accuracy: 98.58%\n",
      "100%|██████████| 468/468 [02:29<00:00,  3.12it/s]\n",
      "100%|██████████| 468/468 [00:46<00:00, 10.09it/s]\n",
      "100%|██████████| 78/78 [00:07<00:00, 10.06it/s]\n",
      "Epoch 8 : train accuracy: 99.36%\n",
      "Epoch 8 : test accuracy: 98.82%\n",
      "100%|██████████| 468/468 [02:33<00:00,  3.04it/s]\n",
      "100%|██████████| 468/468 [00:51<00:00,  9.06it/s]\n",
      "100%|██████████| 78/78 [00:08<00:00,  9.41it/s]\n",
      "Epoch 9 : train accuracy: 99.24%\n",
      "Epoch 9 : test accuracy: 98.59%\n",
      "100%|██████████| 468/468 [02:39<00:00,  2.94it/s]\n",
      "100%|██████████| 468/468 [00:53<00:00,  8.75it/s]\n",
      "100%|██████████| 78/78 [00:09<00:00,  8.13it/s]\n",
      "Epoch 10 : train accuracy: 99.39%\n",
      "Epoch 10 : test accuracy: 98.61%\n"
     ]
    }
   ],
   "source": [
    "# train and evaluate in each epoch\n",
    "for epoch in  range(NUM_EPOCHS):\n",
    "    # train\n",
    "    # TODO:forward + backward + optimize\n",
    "    for images, labels in tqdm(train_loader):\n",
    "        preds = model(images)\n",
    "        loss = criterion(preds, labels)\n",
    "        optimizer.zero_grad() \n",
    "        loss.backward()\n",
    "        optimizer.step()\n",
    "\n",
    "    # evaluate\n",
    "    # TODO:calculate the accuracy using traning and testing dataset\n",
    "    train_acc = 0\n",
    "    test_acc = 0\n",
    "    for images, labels in tqdm(train_loader):\n",
    "        preds = model(images)\n",
    "        rlts = torch.argmax(preds,1)\n",
    "        train_acc += torch.sum(rlts == labels)\n",
    "    for images, labels in tqdm(test_loader):\n",
    "        preds = model(images)\n",
    "        rlts = torch.argmax(preds,1)\n",
    "        test_acc += torch.sum(rlts == labels)\n",
    "    print(\"Epoch %d : train accuracy: %.2f%%\"%(epoch+1, 100*train_acc/60000))\n",
    "    print(\"Epoch %d : test accuracy: %.2f%%\"%(epoch+1, 100*test_acc/10000))"
   ]
  },
  {
   "cell_type": "markdown",
   "metadata": {},
   "source": [
    "#### Q5:\n",
    "Please print the training and testing accuracy."
   ]
  },
  {
   "cell_type": "code",
   "execution_count": 66,
   "metadata": {},
   "outputs": [
    {
     "output_type": "stream",
     "name": "stderr",
     "text": [
      "100%|██████████| 468/468 [00:55<00:00,  8.41it/s]\n",
      "100%|██████████| 78/78 [00:09<00:00,  8.62it/s]\n",
      "Final result : train accuracy: 99.38%\n",
      "Final result : test accuracy: 98.66%\n"
     ]
    }
   ],
   "source": [
    "# final evaluate\n",
    "train_acc = 0\n",
    "test_acc = 0\n",
    "for images, labels in tqdm(train_loader):\n",
    "    preds = model(images)\n",
    "    rlts = torch.argmax(preds,1)\n",
    "    train_acc += torch.sum(rlts == labels)\n",
    "for images, labels in tqdm(test_loader):\n",
    "    preds = model(images)\n",
    "    rlts = torch.argmax(preds,1)\n",
    "    test_acc += torch.sum(rlts == labels)\n",
    "print(\"Final result : train accuracy: %.2f%%\"%(100*train_acc/60000))\n",
    "print(\"Final result : test accuracy: %.2f%%\"%(100*test_acc/10000))"
   ]
  }
 ],
 "metadata": {
  "kernelspec": {
   "name": "python363jvsc74a57bd06484407791b088fd17d39281b005ee291b3d7cb508b1616ebce47db8710ec1be",
   "display_name": "Python 3.6.3 64-bit ('Lab2_code-WzcMZgZ8': virtualenvwrapper)"
  },
  "language_info": {
   "codemirror_mode": {
    "name": "ipython",
    "version": 3
   },
   "file_extension": ".py",
   "mimetype": "text/x-python",
   "name": "python",
   "nbconvert_exporter": "python",
   "pygments_lexer": "ipython3",
   "version": "3.6.3"
  }
 },
 "nbformat": 4,
 "nbformat_minor": 2
}